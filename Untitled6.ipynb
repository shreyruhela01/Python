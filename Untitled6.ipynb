{
  "nbformat": 4,
  "nbformat_minor": 0,
  "metadata": {
    "colab": {
      "name": "Untitled6.ipynb",
      "provenance": [],
      "authorship_tag": "ABX9TyOt6tQoudA14MIWf+EHMTDg",
      "include_colab_link": true
    },
    "kernelspec": {
      "name": "python3",
      "display_name": "Python 3"
    },
    "language_info": {
      "name": "python"
    }
  },
  "cells": [
    {
      "cell_type": "markdown",
      "metadata": {
        "id": "view-in-github",
        "colab_type": "text"
      },
      "source": [
        "<a href=\"https://colab.research.google.com/github/shreyruhela01/Python/blob/main/Untitled6.ipynb\" target=\"_parent\"><img src=\"https://colab.research.google.com/assets/colab-badge.svg\" alt=\"Open In Colab\"/></a>"
      ]
    },
    {
      "cell_type": "markdown",
      "metadata": {
        "id": "Ljw7YL6DA63C"
      },
      "source": [
        ""
      ]
    },
    {
      "cell_type": "code",
      "metadata": {
        "colab": {
          "base_uri": "https://localhost:8080/"
        },
        "id": "KpBoyh7I2Iju",
        "outputId": "dbee7808-c2fb-4164-8dfc-bfbfbb728ae9"
      },
      "source": [
        "class sort:\n",
        "  def __init__(self,list):\n",
        "    self.list=list\n",
        "    self.c1=0\n",
        "    self.c2=0\n",
        "  def insertion(self):\n",
        "    for j in range(1,len(self.list)):\n",
        "      self.c1+=1\n",
        "      key=self.list[j]\n",
        "      i=j-1\n",
        "      while(i>=0 and self.list[i]>key):\n",
        "        self.c2+=1\n",
        "        self.list[i+1]=self.list[i]\n",
        "        i=i-1\n",
        "      self.list[i+1] = key\n",
        "    return self.list\n",
        "\n",
        "list=[2,9,7,5,3]\n",
        "s=sort(list)\n",
        "a = s.insertion()\n",
        "print(a)\n",
        "print(\"For loop is running \",s.c1,\"Times\")\n",
        "print(\"while loop is running \",s.c2,\"Times\")\n",
        "\n",
        "\n"
      ],
      "execution_count": 8,
      "outputs": [
        {
          "output_type": "stream",
          "text": [
            "[2, 3, 5, 7, 9]\n",
            "For loop is running  4 Times\n",
            "while loop is running  6 Times\n"
          ],
          "name": "stdout"
        }
      ]
    },
    {
      "cell_type": "code",
      "metadata": {
        "id": "MKSBo4z8-n5W"
      },
      "source": [
        ""
      ],
      "execution_count": null,
      "outputs": []
    }
  ]
}