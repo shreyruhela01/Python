{
  "nbformat": 4,
  "nbformat_minor": 0,
  "metadata": {
    "colab": {
      "name": "Untitled6.ipynb",
      "provenance": [],
      "authorship_tag": "ABX9TyOubuFvcW37nwoX46OR6uWj",
      "include_colab_link": true
    },
    "kernelspec": {
      "name": "python3",
      "display_name": "Python 3"
    },
    "language_info": {
      "name": "python"
    }
  },
  "cells": [
    {
      "cell_type": "markdown",
      "metadata": {
        "id": "view-in-github",
        "colab_type": "text"
      },
      "source": [
        "<a href=\"https://colab.research.google.com/github/shreyruhela01/Python/blob/main/Untitled6.ipynb\" target=\"_parent\"><img src=\"https://colab.research.google.com/assets/colab-badge.svg\" alt=\"Open In Colab\"/></a>"
      ]
    },
    {
      "cell_type": "code",
      "metadata": {
        "colab": {
          "base_uri": "https://localhost:8080/"
        },
        "id": "KpBoyh7I2Iju",
        "outputId": "1b12a050-33e2-4cea-d3b6-dae1ad4bc870"
      },
      "source": [
        "class sort:\n",
        "  def __init__(self,list):\n",
        "    self.list=list\n",
        "  def insertion(self):\n",
        "    for j in range(1,len(self.list)):\n",
        "      key=self.list[j]\n",
        "      i=j-1\n",
        "      while(i>=0 and self.list[i]>key):\n",
        "        self.list[i+1]=self.list[i]\n",
        "        i=i-1\n",
        "      self.list[i+1] = key\n",
        "    return self.list\n",
        "\n",
        "list=[2,9,7,5,3]\n",
        "s=sort(list)\n",
        "a = s.insertion()\n",
        "print(a)\n",
        "    \n",
        "\n"
      ],
      "execution_count": 7,
      "outputs": [
        {
          "output_type": "stream",
          "text": [
            "[2, 3, 5, 7, 9]\n"
          ],
          "name": "stdout"
        }
      ]
    },
    {
      "cell_type": "code",
      "metadata": {
        "id": "MKSBo4z8-n5W"
      },
      "source": [
        ""
      ],
      "execution_count": null,
      "outputs": []
    }
  ]
}