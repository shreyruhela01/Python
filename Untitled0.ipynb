{
  "nbformat": 4,
  "nbformat_minor": 0,
  "metadata": {
    "colab": {
      "name": "Untitled0.ipynb",
      "provenance": [],
      "authorship_tag": "ABX9TyM+q2NAf76hRXmZKIW8uARH",
      "include_colab_link": true
    },
    "kernelspec": {
      "name": "python3",
      "display_name": "Python 3"
    }
  },
  "cells": [
    {
      "cell_type": "markdown",
      "metadata": {
        "id": "view-in-github",
        "colab_type": "text"
      },
      "source": [
        "<a href=\"https://colab.research.google.com/github/shreyruhela01/Python/blob/main/Untitled0.ipynb\" target=\"_parent\"><img src=\"https://colab.research.google.com/assets/colab-badge.svg\" alt=\"Open In Colab\"/></a>"
      ]
    },
    {
      "cell_type": "code",
      "metadata": {
        "colab": {
          "base_uri": "https://localhost:8080/"
        },
        "id": "GdZrVIqhX5du",
        "outputId": "c601c48e-3398-4277-dc01-8729595d910a"
      },
      "source": [
        "menu = [\"momos\",\"pasta\",\"burger\",\"pizza\",\"chilly potato\"]\r\n",
        "customer=input().split()\r\n",
        "print(customer)\r\n",
        "for item in customer:\r\n",
        "    if item in menu:\r\n",
        "        quantity = input(\"how many plates\" + item)\r\n",
        "        print(\"you may get your order\"+ quantity +\" plates \"+ item + \"soon!\")\r\n",
        "    else:\r\n",
        "        print(\"we don't have\" + item +\" try something else\")\r\n",
        "\r\n"
      ],
      "execution_count": 13,
      "outputs": [
        {
          "output_type": "stream",
          "text": [
            "burger pepsi\n",
            "['burger', 'pepsi']\n",
            "how many platesburger 2\n",
            "you may get your order 2 plates burgersoon!\n",
            "we don't havepepsi try something else\n"
          ],
          "name": "stdout"
        }
      ]
    },
    {
      "cell_type": "code",
      "metadata": {
        "id": "YvMQAy9AX8R1"
      },
      "source": [
        ""
      ],
      "execution_count": 1,
      "outputs": []
    }
  ]
}