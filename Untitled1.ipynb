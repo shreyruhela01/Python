{
  "nbformat": 4,
  "nbformat_minor": 0,
  "metadata": {
    "colab": {
      "name": "Untitled1.ipynb",
      "provenance": [],
      "authorship_tag": "ABX9TyPE9AfqU0YmATpmRzYm5Lv9",
      "include_colab_link": true
    },
    "kernelspec": {
      "name": "python3",
      "display_name": "Python 3"
    }
  },
  "cells": [
    {
      "cell_type": "markdown",
      "metadata": {
        "id": "view-in-github",
        "colab_type": "text"
      },
      "source": [
        "<a href=\"https://colab.research.google.com/github/shreyruhela01/Python/blob/main/Untitled1.ipynb\" target=\"_parent\"><img src=\"https://colab.research.google.com/assets/colab-badge.svg\" alt=\"Open In Colab\"/></a>"
      ]
    },
    {
      "cell_type": "code",
      "metadata": {
        "colab": {
          "base_uri": "https://localhost:8080/"
        },
        "id": "kTli1zFSHD1A",
        "outputId": "fd99ffc7-8ded-4a6a-f728-d0ac85dc1979"
      },
      "source": [
        "input=input()\r\n",
        "Vowels = {x: input.count(x) for x in \"aeiou\"}\r\n",
        "print(\"vowels in sentence—\"+str(list(Vowels.keys()))+\"\\n Each vowel repeated as—\"+str(list(Vowels.values())))"
      ],
      "execution_count": 1,
      "outputs": [
        {
          "output_type": "stream",
          "text": [
            "Mr X is working in Grads IT\n",
            "vowels in sentence—['a', 'e', 'i', 'o', 'u']\n",
            " Each vowel repeated as—[1, 0, 3, 1, 0]\n"
          ],
          "name": "stdout"
        }
      ]
    },
    {
      "cell_type": "code",
      "metadata": {
        "id": "Y53pQnE5IDFD"
      },
      "source": [
        ""
      ],
      "execution_count": null,
      "outputs": []
    }
  ]
}